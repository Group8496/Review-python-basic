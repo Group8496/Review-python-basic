{
 "cells": [
  {
   "cell_type": "code",
   "execution_count": 1,
   "id": "554386ab",
   "metadata": {},
   "outputs": [],
   "source": [
    "import pandas as pd"
   ]
  },
  {
   "cell_type": "markdown",
   "id": "350da2a3",
   "metadata": {},
   "source": [
    "## Constants"
   ]
  },
  {
   "cell_type": "code",
   "execution_count": 161,
   "id": "dd722944",
   "metadata": {},
   "outputs": [],
   "source": [
    "dataPath = 'data/realestate.csv'"
   ]
  },
  {
   "cell_type": "markdown",
   "id": "e1cfb3c4",
   "metadata": {},
   "source": [
    "# Reading Data"
   ]
  },
  {
   "cell_type": "code",
   "execution_count": 279,
   "id": "c397b314",
   "metadata": {},
   "outputs": [],
   "source": [
    "df = pd.read_csv(dataPath)"
   ]
  },
  {
   "cell_type": "code",
   "execution_count": 280,
   "id": "9c701c63",
   "metadata": {},
   "outputs": [
    {
     "name": "stdout",
     "output_type": "stream",
     "text": [
      "<class 'pandas.core.frame.DataFrame'>\n",
      "RangeIndex: 59846 entries, 0 to 59845\n",
      "Data columns (total 13 columns):\n",
      " #   Column                 Non-Null Count  Dtype  \n",
      "---  ------                 --------------  -----  \n",
      " 0   رقم مرجعي              59846 non-null  int64  \n",
      " 1   المنطقة                59846 non-null  object \n",
      " 2   المدينة                59846 non-null  object \n",
      " 3   الحي                   59846 non-null  object \n",
      " 4   المخطط                 59846 non-null  object \n",
      " 5   رقم القطعة             59846 non-null  object \n",
      " 6   التاريخ                59846 non-null  object \n",
      " 7   تصنيف العقار           59846 non-null  object \n",
      " 8   نوع العقار             59846 non-null  object \n",
      " 9   عدد العقارات           59846 non-null  int64  \n",
      " 10  السعر بالريال السعودي  59846 non-null  int64  \n",
      " 11  المساحة                59846 non-null  float64\n",
      " 12  سعر المتر المربع       59846 non-null  float64\n",
      "dtypes: float64(2), int64(3), object(8)\n",
      "memory usage: 5.9+ MB\n"
     ]
    }
   ],
   "source": [
    "df.info()"
   ]
  },
  {
   "cell_type": "markdown",
   "id": "f0fca477",
   "metadata": {},
   "source": [
    "### there are no missing values in the data"
   ]
  },
  {
   "cell_type": "code",
   "execution_count": 281,
   "id": "0d90d20e",
   "metadata": {},
   "outputs": [
    {
     "data": {
      "text/plain": [
       "رقم مرجعي                0\n",
       "المنطقة                  0\n",
       "المدينة                  0\n",
       "الحي                     0\n",
       "المخطط                   0\n",
       "رقم القطعة               0\n",
       "التاريخ                  0\n",
       "تصنيف العقار             0\n",
       "نوع العقار               0\n",
       "عدد العقارات             0\n",
       "السعر بالريال السعودي    0\n",
       "المساحة                  0\n",
       "سعر المتر المربع         0\n",
       "dtype: int64"
      ]
     },
     "execution_count": 281,
     "metadata": {},
     "output_type": "execute_result"
    }
   ],
   "source": [
    "df.isnull().sum()"
   ]
  },
  {
   "cell_type": "code",
   "execution_count": 282,
   "id": "dbb856fd",
   "metadata": {},
   "outputs": [
    {
     "data": {
      "text/html": [
       "<div>\n",
       "<style scoped>\n",
       "    .dataframe tbody tr th:only-of-type {\n",
       "        vertical-align: middle;\n",
       "    }\n",
       "\n",
       "    .dataframe tbody tr th {\n",
       "        vertical-align: top;\n",
       "    }\n",
       "\n",
       "    .dataframe thead th {\n",
       "        text-align: right;\n",
       "    }\n",
       "</style>\n",
       "<table border=\"1\" class=\"dataframe\">\n",
       "  <thead>\n",
       "    <tr style=\"text-align: right;\">\n",
       "      <th></th>\n",
       "      <th>رقم مرجعي</th>\n",
       "      <th>المنطقة</th>\n",
       "      <th>المدينة</th>\n",
       "      <th>الحي</th>\n",
       "      <th>المخطط</th>\n",
       "      <th>رقم القطعة</th>\n",
       "      <th>التاريخ</th>\n",
       "      <th>تصنيف العقار</th>\n",
       "      <th>نوع العقار</th>\n",
       "      <th>عدد العقارات</th>\n",
       "      <th>السعر بالريال السعودي</th>\n",
       "      <th>المساحة</th>\n",
       "      <th>سعر المتر المربع</th>\n",
       "    </tr>\n",
       "  </thead>\n",
       "  <tbody>\n",
       "    <tr>\n",
       "      <th>30058</th>\n",
       "      <td>16361368</td>\n",
       "      <td>منطقة مكة المكرمة</td>\n",
       "      <td>جده</td>\n",
       "      <td>حي/ابحر الشمالية</td>\n",
       "      <td>مخطط/230/ ب</td>\n",
       "      <td>قطعة 468/2</td>\n",
       "      <td>3/6/2022</td>\n",
       "      <td>سكني</td>\n",
       "      <td>قطعة أرض</td>\n",
       "      <td>1</td>\n",
       "      <td>900000</td>\n",
       "      <td>312.50</td>\n",
       "      <td>2880.0000</td>\n",
       "    </tr>\n",
       "    <tr>\n",
       "      <th>3098</th>\n",
       "      <td>15555268</td>\n",
       "      <td>منطقة مكة المكرمة</td>\n",
       "      <td>مكة المكرمة</td>\n",
       "      <td>حي/واحة مكة التطويرى الأول المعدل</td>\n",
       "      <td>مخطط/ك ك 1/ 28/ 28</td>\n",
       "      <td>قطعة 2/6</td>\n",
       "      <td>2/3/2022</td>\n",
       "      <td>زراعي</td>\n",
       "      <td>شقة</td>\n",
       "      <td>1</td>\n",
       "      <td>418000</td>\n",
       "      <td>122.53</td>\n",
       "      <td>3411.4094</td>\n",
       "    </tr>\n",
       "    <tr>\n",
       "      <th>51896</th>\n",
       "      <td>16630384</td>\n",
       "      <td>منطقة مكة المكرمة</td>\n",
       "      <td>الطائف</td>\n",
       "      <td>حي/القيم</td>\n",
       "      <td>مخطط/306/ س/ 1415هـ</td>\n",
       "      <td>قطعة 104</td>\n",
       "      <td>4/3/2022</td>\n",
       "      <td>سكني</td>\n",
       "      <td>قطعة أرض</td>\n",
       "      <td>1</td>\n",
       "      <td>1200000</td>\n",
       "      <td>810.00</td>\n",
       "      <td>1481.4814</td>\n",
       "    </tr>\n",
       "    <tr>\n",
       "      <th>47168</th>\n",
       "      <td>16575635</td>\n",
       "      <td>منطقة الرياض</td>\n",
       "      <td>الرياض</td>\n",
       "      <td>حي/نمار</td>\n",
       "      <td>مخطط/3020/ د</td>\n",
       "      <td>قطعة 2025</td>\n",
       "      <td>3/28/2022</td>\n",
       "      <td>سكني</td>\n",
       "      <td>قطعة أرض</td>\n",
       "      <td>1</td>\n",
       "      <td>1300000</td>\n",
       "      <td>941.50</td>\n",
       "      <td>1380.7753</td>\n",
       "    </tr>\n",
       "    <tr>\n",
       "      <th>4532</th>\n",
       "      <td>16117953</td>\n",
       "      <td>منطقة مكة المكرمة</td>\n",
       "      <td>جده</td>\n",
       "      <td>حي/الواحة</td>\n",
       "      <td>مخطط/588/ ج/ س</td>\n",
       "      <td>قطعة 2/2</td>\n",
       "      <td>2/6/2022</td>\n",
       "      <td>زراعي</td>\n",
       "      <td>شقة</td>\n",
       "      <td>1</td>\n",
       "      <td>275000</td>\n",
       "      <td>95.87</td>\n",
       "      <td>2868.4677</td>\n",
       "    </tr>\n",
       "  </tbody>\n",
       "</table>\n",
       "</div>"
      ],
      "text/plain": [
       "       رقم مرجعي            المنطقة      المدينة  \\\n",
       "30058   16361368  منطقة مكة المكرمة          جده   \n",
       "3098    15555268  منطقة مكة المكرمة  مكة المكرمة   \n",
       "51896   16630384  منطقة مكة المكرمة       الطائف   \n",
       "47168   16575635       منطقة الرياض       الرياض   \n",
       "4532    16117953  منطقة مكة المكرمة          جده   \n",
       "\n",
       "                                    الحي               المخطط   رقم القطعة  \\\n",
       "30058                   حي/ابحر الشمالية          مخطط/230/ ب   قطعة 468/2   \n",
       "3098   حي/واحة مكة التطويرى الأول المعدل   مخطط/ك ك 1/ 28/ 28     قطعة 2/6   \n",
       "51896                           حي/القيم  مخطط/306/ س/ 1415هـ     قطعة 104   \n",
       "47168                            حي/نمار         مخطط/3020/ د    قطعة 2025   \n",
       "4532                           حي/الواحة       مخطط/588/ ج/ س     قطعة 2/2   \n",
       "\n",
       "         التاريخ تصنيف العقار نوع العقار  عدد العقارات  السعر بالريال السعودي  \\\n",
       "30058   3/6/2022         سكني   قطعة أرض             1                 900000   \n",
       "3098    2/3/2022        زراعي        شقة             1                 418000   \n",
       "51896   4/3/2022         سكني   قطعة أرض             1                1200000   \n",
       "47168  3/28/2022         سكني   قطعة أرض             1                1300000   \n",
       "4532    2/6/2022        زراعي        شقة             1                 275000   \n",
       "\n",
       "       المساحة   سعر المتر المربع  \n",
       "30058    312.50         2880.0000  \n",
       "3098     122.53         3411.4094  \n",
       "51896    810.00         1481.4814  \n",
       "47168    941.50         1380.7753  \n",
       "4532      95.87         2868.4677  "
      ]
     },
     "execution_count": 282,
     "metadata": {},
     "output_type": "execute_result"
    }
   ],
   "source": [
    "df.sample(5)"
   ]
  },
  {
   "cell_type": "code",
   "execution_count": 283,
   "id": "71abbaa3",
   "metadata": {},
   "outputs": [
    {
     "data": {
      "text/html": [
       "<div>\n",
       "<style scoped>\n",
       "    .dataframe tbody tr th:only-of-type {\n",
       "        vertical-align: middle;\n",
       "    }\n",
       "\n",
       "    .dataframe tbody tr th {\n",
       "        vertical-align: top;\n",
       "    }\n",
       "\n",
       "    .dataframe thead th {\n",
       "        text-align: right;\n",
       "    }\n",
       "</style>\n",
       "<table border=\"1\" class=\"dataframe\">\n",
       "  <thead>\n",
       "    <tr style=\"text-align: right;\">\n",
       "      <th></th>\n",
       "      <th>رقم مرجعي</th>\n",
       "      <th>عدد العقارات</th>\n",
       "      <th>السعر بالريال السعودي</th>\n",
       "      <th>المساحة</th>\n",
       "      <th>سعر المتر المربع</th>\n",
       "    </tr>\n",
       "  </thead>\n",
       "  <tbody>\n",
       "    <tr>\n",
       "      <th>count</th>\n",
       "      <td>5.984600e+04</td>\n",
       "      <td>59846.000000</td>\n",
       "      <td>5.984600e+04</td>\n",
       "      <td>5.984600e+04</td>\n",
       "      <td>59846.000000</td>\n",
       "    </tr>\n",
       "    <tr>\n",
       "      <th>mean</th>\n",
       "      <td>1.637109e+07</td>\n",
       "      <td>1.030729</td>\n",
       "      <td>8.687596e+05</td>\n",
       "      <td>4.921410e+03</td>\n",
       "      <td>1302.610391</td>\n",
       "    </tr>\n",
       "    <tr>\n",
       "      <th>std</th>\n",
       "      <td>1.908103e+05</td>\n",
       "      <td>0.517559</td>\n",
       "      <td>5.347610e+06</td>\n",
       "      <td>6.591525e+04</td>\n",
       "      <td>2185.538330</td>\n",
       "    </tr>\n",
       "    <tr>\n",
       "      <th>min</th>\n",
       "      <td>1.489077e+07</td>\n",
       "      <td>1.000000</td>\n",
       "      <td>1.000000e+04</td>\n",
       "      <td>2.830000e+00</td>\n",
       "      <td>0.010000</td>\n",
       "    </tr>\n",
       "    <tr>\n",
       "      <th>25%</th>\n",
       "      <td>1.620996e+07</td>\n",
       "      <td>1.000000</td>\n",
       "      <td>1.400000e+05</td>\n",
       "      <td>4.037500e+02</td>\n",
       "      <td>207.429475</td>\n",
       "    </tr>\n",
       "    <tr>\n",
       "      <th>50%</th>\n",
       "      <td>1.634973e+07</td>\n",
       "      <td>1.000000</td>\n",
       "      <td>3.800000e+05</td>\n",
       "      <td>6.000000e+02</td>\n",
       "      <td>646.106700</td>\n",
       "    </tr>\n",
       "    <tr>\n",
       "      <th>75%</th>\n",
       "      <td>1.652857e+07</td>\n",
       "      <td>1.000000</td>\n",
       "      <td>8.000000e+05</td>\n",
       "      <td>7.800000e+02</td>\n",
       "      <td>1600.000000</td>\n",
       "    </tr>\n",
       "    <tr>\n",
       "      <th>max</th>\n",
       "      <td>1.673255e+07</td>\n",
       "      <td>56.000000</td>\n",
       "      <td>7.456640e+08</td>\n",
       "      <td>4.348793e+06</td>\n",
       "      <td>139854.706400</td>\n",
       "    </tr>\n",
       "  </tbody>\n",
       "</table>\n",
       "</div>"
      ],
      "text/plain": [
       "          رقم مرجعي  عدد العقارات  السعر بالريال السعودي      المساحة   \\\n",
       "count  5.984600e+04  59846.000000           5.984600e+04  5.984600e+04   \n",
       "mean   1.637109e+07      1.030729           8.687596e+05  4.921410e+03   \n",
       "std    1.908103e+05      0.517559           5.347610e+06  6.591525e+04   \n",
       "min    1.489077e+07      1.000000           1.000000e+04  2.830000e+00   \n",
       "25%    1.620996e+07      1.000000           1.400000e+05  4.037500e+02   \n",
       "50%    1.634973e+07      1.000000           3.800000e+05  6.000000e+02   \n",
       "75%    1.652857e+07      1.000000           8.000000e+05  7.800000e+02   \n",
       "max    1.673255e+07     56.000000           7.456640e+08  4.348793e+06   \n",
       "\n",
       "       سعر المتر المربع  \n",
       "count      59846.000000  \n",
       "mean        1302.610391  \n",
       "std         2185.538330  \n",
       "min            0.010000  \n",
       "25%          207.429475  \n",
       "50%          646.106700  \n",
       "75%         1600.000000  \n",
       "max       139854.706400  "
      ]
     },
     "execution_count": 283,
     "metadata": {},
     "output_type": "execute_result"
    }
   ],
   "source": [
    "df.describe()"
   ]
  },
  {
   "cell_type": "code",
   "execution_count": 384,
   "id": "51cee1cc",
   "metadata": {},
   "outputs": [],
   "source": [
    "df = pd.read_csv(dataPath,index_col='رقم مرجعي')"
   ]
  },
  {
   "cell_type": "code",
   "execution_count": 385,
   "id": "71ad0823",
   "metadata": {},
   "outputs": [
    {
     "data": {
      "text/html": [
       "<div>\n",
       "<style scoped>\n",
       "    .dataframe tbody tr th:only-of-type {\n",
       "        vertical-align: middle;\n",
       "    }\n",
       "\n",
       "    .dataframe tbody tr th {\n",
       "        vertical-align: top;\n",
       "    }\n",
       "\n",
       "    .dataframe thead th {\n",
       "        text-align: right;\n",
       "    }\n",
       "</style>\n",
       "<table border=\"1\" class=\"dataframe\">\n",
       "  <thead>\n",
       "    <tr style=\"text-align: right;\">\n",
       "      <th></th>\n",
       "      <th>المنطقة</th>\n",
       "      <th>المدينة</th>\n",
       "      <th>الحي</th>\n",
       "      <th>المخطط</th>\n",
       "      <th>رقم القطعة</th>\n",
       "      <th>التاريخ</th>\n",
       "      <th>تصنيف العقار</th>\n",
       "      <th>نوع العقار</th>\n",
       "      <th>عدد العقارات</th>\n",
       "      <th>السعر بالريال السعودي</th>\n",
       "      <th>المساحة</th>\n",
       "      <th>سعر المتر المربع</th>\n",
       "    </tr>\n",
       "    <tr>\n",
       "      <th>رقم مرجعي</th>\n",
       "      <th></th>\n",
       "      <th></th>\n",
       "      <th></th>\n",
       "      <th></th>\n",
       "      <th></th>\n",
       "      <th></th>\n",
       "      <th></th>\n",
       "      <th></th>\n",
       "      <th></th>\n",
       "      <th></th>\n",
       "      <th></th>\n",
       "      <th></th>\n",
       "    </tr>\n",
       "  </thead>\n",
       "  <tbody>\n",
       "    <tr>\n",
       "      <th>16639271</th>\n",
       "      <td>منطقة مكة المكرمة</td>\n",
       "      <td>جده</td>\n",
       "      <td>حي/الياقوت</td>\n",
       "      <td>مخطط/144/ ب</td>\n",
       "      <td>قطعة 8</td>\n",
       "      <td>4/4/2022</td>\n",
       "      <td>تجاري</td>\n",
       "      <td>قطعة أرض</td>\n",
       "      <td>1</td>\n",
       "      <td>745664000</td>\n",
       "      <td>932080.00</td>\n",
       "      <td>800.0000</td>\n",
       "    </tr>\n",
       "    <tr>\n",
       "      <th>16086348</th>\n",
       "      <td>منطقة مكة المكرمة</td>\n",
       "      <td>مكة المكرمة</td>\n",
       "      <td>حي/وادى المغمس</td>\n",
       "      <td>مخطط/أخرى</td>\n",
       "      <td>قطعة بدون</td>\n",
       "      <td>3/3/2022</td>\n",
       "      <td>سكني</td>\n",
       "      <td>قطعة أرض</td>\n",
       "      <td>1</td>\n",
       "      <td>421566264</td>\n",
       "      <td>1053915.66</td>\n",
       "      <td>400.0000</td>\n",
       "    </tr>\n",
       "    <tr>\n",
       "      <th>16244236</th>\n",
       "      <td>منطقة القصيم</td>\n",
       "      <td>بريده</td>\n",
       "      <td>حي/الشقة</td>\n",
       "      <td>مخطط/أخرى</td>\n",
       "      <td>قطعة بدون</td>\n",
       "      <td>2/21/2022</td>\n",
       "      <td>سكني</td>\n",
       "      <td>قطعة أرض</td>\n",
       "      <td>1</td>\n",
       "      <td>326250000</td>\n",
       "      <td>649233.95</td>\n",
       "      <td>502.5153</td>\n",
       "    </tr>\n",
       "    <tr>\n",
       "      <th>16244600</th>\n",
       "      <td>منطقة القصيم</td>\n",
       "      <td>بريده</td>\n",
       "      <td>حي/الشقة السفلى</td>\n",
       "      <td>مخطط/أخرى</td>\n",
       "      <td>قطعة بدون</td>\n",
       "      <td>2/21/2022</td>\n",
       "      <td>سكني</td>\n",
       "      <td>قطعة أرض</td>\n",
       "      <td>1</td>\n",
       "      <td>326250000</td>\n",
       "      <td>114187.63</td>\n",
       "      <td>2857.1396</td>\n",
       "    </tr>\n",
       "    <tr>\n",
       "      <th>16202190</th>\n",
       "      <td>منطقة مكة المكرمة</td>\n",
       "      <td>جده</td>\n",
       "      <td>حي/الخمرة</td>\n",
       "      <td>مخطط/أخرى</td>\n",
       "      <td>قطعة أ</td>\n",
       "      <td>2/21/2022</td>\n",
       "      <td>سكني</td>\n",
       "      <td>قطعة أرض</td>\n",
       "      <td>1</td>\n",
       "      <td>284972650</td>\n",
       "      <td>1036264.17</td>\n",
       "      <td>275.0000</td>\n",
       "    </tr>\n",
       "    <tr>\n",
       "      <th>16153618</th>\n",
       "      <td>منطقة الرياض</td>\n",
       "      <td>الرياض</td>\n",
       "      <td>حي/الياسمين</td>\n",
       "      <td>مخطط/2771/ أ</td>\n",
       "      <td>قطعة 20</td>\n",
       "      <td>2/9/2022</td>\n",
       "      <td>تجاري</td>\n",
       "      <td>مرفق</td>\n",
       "      <td>1</td>\n",
       "      <td>232598025</td>\n",
       "      <td>140968.50</td>\n",
       "      <td>1650.0000</td>\n",
       "    </tr>\n",
       "    <tr>\n",
       "      <th>16677480</th>\n",
       "      <td>منطقة الرياض</td>\n",
       "      <td>الرياض</td>\n",
       "      <td>حي/المونسية</td>\n",
       "      <td>مخطط/أخرى</td>\n",
       "      <td>قطعة 45</td>\n",
       "      <td>4/12/2022</td>\n",
       "      <td>تجاري</td>\n",
       "      <td>قطعة أرض</td>\n",
       "      <td>1</td>\n",
       "      <td>213916076</td>\n",
       "      <td>97234.58</td>\n",
       "      <td>2200.0000</td>\n",
       "    </tr>\n",
       "    <tr>\n",
       "      <th>16674846</th>\n",
       "      <td>منطقة الرياض</td>\n",
       "      <td>الرياض</td>\n",
       "      <td>حي/جامعة الامام بن سعود الاسلامية</td>\n",
       "      <td>مخطط/2922</td>\n",
       "      <td>قطعة 2</td>\n",
       "      <td>4/7/2022</td>\n",
       "      <td>تجاري</td>\n",
       "      <td>قطعة أرض</td>\n",
       "      <td>1</td>\n",
       "      <td>204111320</td>\n",
       "      <td>102055.66</td>\n",
       "      <td>2000.0000</td>\n",
       "    </tr>\n",
       "    <tr>\n",
       "      <th>16623642</th>\n",
       "      <td>منطقة مكة المكرمة</td>\n",
       "      <td>مكة المكرمة</td>\n",
       "      <td>حي/أخرى</td>\n",
       "      <td>مخطط/أخرى</td>\n",
       "      <td>قطعة بدون</td>\n",
       "      <td>3/31/2022</td>\n",
       "      <td>سكني</td>\n",
       "      <td>قطعة أرض</td>\n",
       "      <td>1</td>\n",
       "      <td>180000000</td>\n",
       "      <td>1287.05</td>\n",
       "      <td>139854.7064</td>\n",
       "    </tr>\n",
       "    <tr>\n",
       "      <th>16462947</th>\n",
       "      <td>منطقة الرياض</td>\n",
       "      <td>الرياض</td>\n",
       "      <td>حي/بنبان</td>\n",
       "      <td>مخطط/2771/ أ</td>\n",
       "      <td>قطعة 19</td>\n",
       "      <td>3/17/2022</td>\n",
       "      <td>تجاري</td>\n",
       "      <td>قطعة أرض</td>\n",
       "      <td>1</td>\n",
       "      <td>169497910</td>\n",
       "      <td>29999.63</td>\n",
       "      <td>5650.0000</td>\n",
       "    </tr>\n",
       "  </tbody>\n",
       "</table>\n",
       "</div>"
      ],
      "text/plain": [
       "                     المنطقة      المدينة                               الحي  \\\n",
       "رقم مرجعي                                                                      \n",
       "16639271   منطقة مكة المكرمة          جده                         حي/الياقوت   \n",
       "16086348   منطقة مكة المكرمة  مكة المكرمة                     حي/وادى المغمس   \n",
       "16244236        منطقة القصيم        بريده                           حي/الشقة   \n",
       "16244600        منطقة القصيم        بريده                    حي/الشقة السفلى   \n",
       "16202190   منطقة مكة المكرمة          جده                          حي/الخمرة   \n",
       "16153618        منطقة الرياض       الرياض                        حي/الياسمين   \n",
       "16677480        منطقة الرياض       الرياض                        حي/المونسية   \n",
       "16674846        منطقة الرياض       الرياض  حي/جامعة الامام بن سعود الاسلامية   \n",
       "16623642   منطقة مكة المكرمة  مكة المكرمة                            حي/أخرى   \n",
       "16462947        منطقة الرياض       الرياض                           حي/بنبان   \n",
       "\n",
       "                 المخطط  رقم القطعة    التاريخ تصنيف العقار نوع العقار  \\\n",
       "رقم مرجعي                                                                \n",
       "16639271    مخطط/144/ ب      قطعة 8   4/4/2022        تجاري   قطعة أرض   \n",
       "16086348      مخطط/أخرى   قطعة بدون   3/3/2022         سكني   قطعة أرض   \n",
       "16244236      مخطط/أخرى   قطعة بدون  2/21/2022         سكني   قطعة أرض   \n",
       "16244600      مخطط/أخرى   قطعة بدون  2/21/2022         سكني   قطعة أرض   \n",
       "16202190      مخطط/أخرى      قطعة أ  2/21/2022         سكني   قطعة أرض   \n",
       "16153618   مخطط/2771/ أ     قطعة 20   2/9/2022        تجاري       مرفق   \n",
       "16677480      مخطط/أخرى     قطعة 45  4/12/2022        تجاري   قطعة أرض   \n",
       "16674846      مخطط/2922      قطعة 2   4/7/2022        تجاري   قطعة أرض   \n",
       "16623642      مخطط/أخرى   قطعة بدون  3/31/2022         سكني   قطعة أرض   \n",
       "16462947   مخطط/2771/ أ     قطعة 19  3/17/2022        تجاري   قطعة أرض   \n",
       "\n",
       "           عدد العقارات  السعر بالريال السعودي    المساحة   سعر المتر المربع  \n",
       "رقم مرجعي                                                                     \n",
       "16639271              1              745664000   932080.00          800.0000  \n",
       "16086348              1              421566264  1053915.66          400.0000  \n",
       "16244236              1              326250000   649233.95          502.5153  \n",
       "16244600              1              326250000   114187.63         2857.1396  \n",
       "16202190              1              284972650  1036264.17          275.0000  \n",
       "16153618              1              232598025   140968.50         1650.0000  \n",
       "16677480              1              213916076    97234.58         2200.0000  \n",
       "16674846              1              204111320   102055.66         2000.0000  \n",
       "16623642              1              180000000     1287.05       139854.7064  \n",
       "16462947              1              169497910    29999.63         5650.0000  "
      ]
     },
     "execution_count": 385,
     "metadata": {},
     "output_type": "execute_result"
    }
   ],
   "source": [
    "df.sort_values(by='السعر بالريال السعودي',ascending=False).head(10)"
   ]
  },
  {
   "cell_type": "markdown",
   "id": "3464190d",
   "metadata": {},
   "source": [
    "# Data Preparation"
   ]
  },
  {
   "cell_type": "code",
   "execution_count": 386,
   "id": "610391c3",
   "metadata": {},
   "outputs": [],
   "source": [
    "from datetime import datetime"
   ]
  },
  {
   "cell_type": "code",
   "execution_count": 387,
   "id": "2a2abab9",
   "metadata": {},
   "outputs": [
    {
     "data": {
      "text/plain": [
       "2/17/2022    1545\n",
       "3/1/2022     1500\n",
       "2/23/2022    1475\n",
       "2/27/2022    1434\n",
       "2/13/2022    1431\n",
       "             ... \n",
       "2/4/2022       84\n",
       "3/25/2022      82\n",
       "3/4/2022       78\n",
       "3/12/2022      72\n",
       "3/11/2022      43\n",
       "Name: التاريخ, Length: 73, dtype: int64"
      ]
     },
     "execution_count": 387,
     "metadata": {},
     "output_type": "execute_result"
    }
   ],
   "source": [
    "df['التاريخ'].value_counts()"
   ]
  },
  {
   "cell_type": "code",
   "execution_count": 388,
   "id": "4fb104d4",
   "metadata": {},
   "outputs": [],
   "source": [
    "def parse_date(date):\n",
    "    date = date.split(\"/\")\n",
    "    return datetime(int(date[2]),int(date[0]),int(date[1]))"
   ]
  },
  {
   "cell_type": "code",
   "execution_count": 389,
   "id": "94d68c89",
   "metadata": {},
   "outputs": [],
   "source": [
    "# df['التاريخ'] = df['التاريخ'].apply(parse_date)"
   ]
  },
  {
   "cell_type": "code",
   "execution_count": 390,
   "id": "15812823",
   "metadata": {},
   "outputs": [],
   "source": [
    "# type(df['التاريخ'].iloc[0])"
   ]
  },
  {
   "cell_type": "code",
   "execution_count": 391,
   "id": "7be3bfa5",
   "metadata": {},
   "outputs": [],
   "source": [
    "# df['السعر بالريال السعودي'] = df['السعر بالريال السعودي'].apply( lambda x : x/1000)\n",
    "# df['سعر المتر المربع'] = df['سعر المتر المربع'].apply( lambda x : x/1000)"
   ]
  },
  {
   "cell_type": "code",
   "execution_count": 392,
   "id": "1b06cb0d",
   "metadata": {},
   "outputs": [],
   "source": [
    "# df = df.rename({'السعر بالريال السعودي': 'السعر بالريال السعودي مقدر بالآلاف'}, axis = 1)"
   ]
  },
  {
   "cell_type": "markdown",
   "id": "00411368",
   "metadata": {},
   "source": [
    "# Data Exploration"
   ]
  },
  {
   "cell_type": "code",
   "execution_count": 393,
   "id": "315af67d",
   "metadata": {},
   "outputs": [],
   "source": [
    "import seaborn as sns\n",
    "import matplotlib.pyplot as plt"
   ]
  },
  {
   "cell_type": "code",
   "execution_count": 428,
   "id": "33a0f4dc",
   "metadata": {},
   "outputs": [
    {
     "name": "stderr",
     "output_type": "stream",
     "text": [
      "C:\\Users\\user\\anaconda3\\lib\\site-packages\\seaborn\\distributions.py:2619: FutureWarning: `distplot` is a deprecated function and will be removed in a future version. Please adapt your code to use either `displot` (a figure-level function with similar flexibility) or `histplot` (an axes-level function for histograms).\n",
      "  warnings.warn(msg, FutureWarning)\n"
     ]
    },
    {
     "data": {
      "text/plain": [
       "<AxesSubplot:xlabel='السعر بالريال السعودي', ylabel='Density'>"
      ]
     },
     "execution_count": 428,
     "metadata": {},
     "output_type": "execute_result"
    },
    {
     "data": {
      "image/png": "[encoded data removed]",
      "text/plain": [
       "<Figure size 720x432 with 1 Axes>"
      ]
     },
     "metadata": {
      "needs_background": "light"
     },
     "output_type": "display_data"
    }
   ],
   "source": [
    "#distplot for the price\n",
    "plt.figure(figsize=(10,6))\n",
    "sns.distplot(df['السعر بالريال السعودي'])"
   ]
  },
  {
   "cell_type": "code",
   "execution_count": 425,
   "id": "d18ab1af",
   "metadata": {},
   "outputs": [
    {
     "name": "stderr",
     "output_type": "stream",
     "text": [
      "C:\\Users\\user\\anaconda3\\lib\\site-packages\\seaborn\\_decorators.py:36: FutureWarning: Pass the following variable as a keyword arg: x. From version 0.12, the only valid positional argument will be `data`, and passing other arguments without an explicit keyword will result in an error or misinterpretation.\n",
      "  warnings.warn(\n"
     ]
    },
    {
     "data": {
      "text/plain": [
       "<AxesSubplot:xlabel='عدد العقارات', ylabel='count'>"
      ]
     },
     "execution_count": 425,
     "metadata": {},
     "output_type": "execute_result"
    },
    {
     "data": {
      "image/png": "[encoded data removed]",
      "text/plain": [
       "<Figure size 432x288 with 1 Axes>"
      ]
     },
     "metadata": {
      "needs_background": "light"
     },
     "output_type": "display_data"
    }
   ],
   "source": [
    "sns.countplot(df[df['عدد العقارات']  > 1]['عدد العقارات'],)"
   ]
  },
  {
   "cell_type": "code",
   "execution_count": 438,
   "id": "36c3cbf6",
   "metadata": {},
   "outputs": [
    {
     "data": {
      "text/plain": [
       "<AxesSubplot:xlabel='السعر بالريال السعودي', ylabel='سعر المتر المربع'>"
      ]
     },
     "execution_count": 438,
     "metadata": {},
     "output_type": "execute_result"
    },
    {
     "data": {
      "image/png": "[encoded data removed]",
      "text/plain": [
       "<Figure size 432x288 with 1 Axes>"
      ]
     },
     "metadata": {
      "needs_background": "light"
     },
     "output_type": "display_data"
    }
   ],
   "source": [
    "sns.scatterplot(x='السعر بالريال السعودي', y= 'سعر المتر المربع', data= df)"
   ]
  },
  {
   "cell_type": "code",
   "execution_count": 439,
   "id": "ba1433b5",
   "metadata": {},
   "outputs": [
    {
     "data": {
      "text/plain": [
       "<AxesSubplot:xlabel='السعر بالريال السعودي', ylabel='نوع العقار'>"
      ]
     },
     "execution_count": 439,
     "metadata": {},
     "output_type": "execute_result"
    },
    {
     "data": {
      "image/png": "[encoded data removed]",
      "text/plain": [
       "<Figure size 432x288 with 1 Axes>"
      ]
     },
     "metadata": {
      "needs_background": "light"
     },
     "output_type": "display_data"
    }
   ],
   "source": [
    "sns.barplot(x='السعر بالريال السعودي', y= 'نوع العقار', data= df)"
   ]
  },
  {
   "cell_type": "code",
   "execution_count": 440,
   "id": "fcd0e9af",
   "metadata": {},
   "outputs": [
    {
     "data": {
      "text/plain": [
       "<AxesSubplot:xlabel='السعر بالريال السعودي', ylabel='تصنيف العقار'>"
      ]
     },
     "execution_count": 440,
     "metadata": {},
     "output_type": "execute_result"
    },
    {
     "data": {
      "image/png": "[encoded data removed]",
      "text/plain": [
       "<Figure size 432x288 with 1 Axes>"
      ]
     },
     "metadata": {
      "needs_background": "light"
     },
     "output_type": "display_data"
    }
   ],
   "source": [
    "sns.barplot(x='السعر بالريال السعودي', y= 'تصنيف العقار', data= df)"
   ]
  },
  {
   "cell_type": "code",
   "execution_count": 445,
   "id": "7082af12",
   "metadata": {},
   "outputs": [
    {
     "data": {
      "text/plain": [
       "Index(['المنطقة', 'المدينة', 'الحي', 'المخطط', 'رقم القطعة', 'التاريخ',\n",
       "       'تصنيف العقار', 'نوع العقار', 'عدد العقارات', 'السعر بالريال السعودي',\n",
       "       'المساحة ', 'سعر المتر المربع'],\n",
       "      dtype='object')"
      ]
     },
     "execution_count": 445,
     "metadata": {},
     "output_type": "execute_result"
    }
   ],
   "source": [
    "df.columns"
   ]
  },
  {
   "cell_type": "code",
   "execution_count": 449,
   "id": "b73b65a2",
   "metadata": {},
   "outputs": [
    {
     "data": {
      "text/plain": [
       "<AxesSubplot:xlabel='السعر بالريال السعودي', ylabel='المساحة '>"
      ]
     },
     "execution_count": 449,
     "metadata": {},
     "output_type": "execute_result"
    },
    {
     "data": {
      "image/png": "[encoded data removed]",
      "text/plain": [
       "<Figure size 432x288 with 1 Axes>"
      ]
     },
     "metadata": {
      "needs_background": "light"
     },
     "output_type": "display_data"
    }
   ],
   "source": [
    "sns.scatterplot(x='السعر بالريال السعودي', y='المساحة ', data= df)"
   ]
  },
  {
   "cell_type": "code",
   "execution_count": 450,
   "id": "080508e1",
   "metadata": {},
   "outputs": [
    {
     "data": {
      "text/plain": [
       "<seaborn.axisgrid.PairGrid at 0x22ab6a1bbb0>"
      ]
     },
     "execution_count": 450,
     "metadata": {},
     "output_type": "execute_result"
    },
    {
     "name": "stdout",
     "output_type": "stream",
     "text": [
      "Error in callback <function flush_figures at 0x0000022A1A5CF1F0> (for post_execute):\n"
     ]
    },
    {
     "name": "stderr",
     "output_type": "stream",
     "text": [
      "\n",
      "KeyboardInterrupt\n",
      "\n"
     ]
    }
   ],
   "source": [
    "sns.pairplot(df)"
   ]
  },
  {
   "cell_type": "markdown",
   "id": "d6473703",
   "metadata": {},
   "source": [
    "# Data Analysis"
   ]
  },
  {
   "cell_type": "code",
   "execution_count": 33,
   "id": "af29e4ab",
   "metadata": {},
   "outputs": [],
   "source": [
    "# data = pd.read_excel('data/')\n",
    "data = pd.read_csv('data/government-sector-employees-2021-first-part.csv')"
   ]
  },
  {
   "cell_type": "code",
   "execution_count": 34,
   "id": "acd1057e",
   "metadata": {},
   "outputs": [
    {
     "data": {
      "text/html": [
       "<div>\n",
       "<style scoped>\n",
       "    .dataframe tbody tr th:only-of-type {\n",
       "        vertical-align: middle;\n",
       "    }\n",
       "\n",
       "    .dataframe tbody tr th {\n",
       "        vertical-align: top;\n",
       "    }\n",
       "\n",
       "    .dataframe thead th {\n",
       "        text-align: right;\n",
       "    }\n",
       "</style>\n",
       "<table border=\"1\" class=\"dataframe\">\n",
       "  <thead>\n",
       "    <tr style=\"text-align: right;\">\n",
       "      <th></th>\n",
       "      <th>رقم الموظف</th>\n",
       "      <th>الجنس</th>\n",
       "      <th>الجنسية</th>\n",
       "      <th>العمر</th>\n",
       "      <th>المؤهل</th>\n",
       "      <th>المنطقة الإدارية</th>\n",
       "    </tr>\n",
       "  </thead>\n",
       "  <tbody>\n",
       "    <tr>\n",
       "      <th>297148</th>\n",
       "      <td>موظف 297149</td>\n",
       "      <td>رجال</td>\n",
       "      <td>سعودي</td>\n",
       "      <td>40</td>\n",
       "      <td>دبلوم بعد الجامعة</td>\n",
       "      <td>منطقة الرياض</td>\n",
       "    </tr>\n",
       "    <tr>\n",
       "      <th>407696</th>\n",
       "      <td>موظف 407697</td>\n",
       "      <td>رجال</td>\n",
       "      <td>سعودي</td>\n",
       "      <td>40</td>\n",
       "      <td>البكالوريوس</td>\n",
       "      <td>منطقة الرياض</td>\n",
       "    </tr>\n",
       "    <tr>\n",
       "      <th>55926</th>\n",
       "      <td>موظف 55927</td>\n",
       "      <td>رجال</td>\n",
       "      <td>سعودي</td>\n",
       "      <td>39</td>\n",
       "      <td>الكفاءة المتوسطة</td>\n",
       "      <td>منطقة الرياض</td>\n",
       "    </tr>\n",
       "    <tr>\n",
       "      <th>272231</th>\n",
       "      <td>موظف 272232</td>\n",
       "      <td>نساء</td>\n",
       "      <td>سعودي</td>\n",
       "      <td>37</td>\n",
       "      <td>البكالوريوس</td>\n",
       "      <td>منطقة الرياض</td>\n",
       "    </tr>\n",
       "    <tr>\n",
       "      <th>209219</th>\n",
       "      <td>موظف 209220</td>\n",
       "      <td>رجال</td>\n",
       "      <td>سعودي</td>\n",
       "      <td>33</td>\n",
       "      <td>البكالوريوس</td>\n",
       "      <td>منطقة الرياض</td>\n",
       "    </tr>\n",
       "    <tr>\n",
       "      <th>172038</th>\n",
       "      <td>موظف 172039</td>\n",
       "      <td>نساء</td>\n",
       "      <td>سعودي</td>\n",
       "      <td>30</td>\n",
       "      <td>البكالوريوس</td>\n",
       "      <td>منطقة الرياض</td>\n",
       "    </tr>\n",
       "    <tr>\n",
       "      <th>352570</th>\n",
       "      <td>موظف 352571</td>\n",
       "      <td>رجال</td>\n",
       "      <td>سعودي</td>\n",
       "      <td>43</td>\n",
       "      <td>دبلوم بعد الجامعة</td>\n",
       "      <td>منطقة الرياض</td>\n",
       "    </tr>\n",
       "    <tr>\n",
       "      <th>319168</th>\n",
       "      <td>موظف 319169</td>\n",
       "      <td>رجال</td>\n",
       "      <td>سعودي</td>\n",
       "      <td>49</td>\n",
       "      <td>البكالوريوس</td>\n",
       "      <td>منطقة الرياض</td>\n",
       "    </tr>\n",
       "    <tr>\n",
       "      <th>16075</th>\n",
       "      <td>موظف 16076</td>\n",
       "      <td>رجال</td>\n",
       "      <td>سعودي</td>\n",
       "      <td>36</td>\n",
       "      <td>البكالوريوس</td>\n",
       "      <td>منطقة الرياض</td>\n",
       "    </tr>\n",
       "    <tr>\n",
       "      <th>255523</th>\n",
       "      <td>موظف 255524</td>\n",
       "      <td>نساء</td>\n",
       "      <td>سعودي</td>\n",
       "      <td>46</td>\n",
       "      <td>البكالوريوس</td>\n",
       "      <td>منطقة الرياض</td>\n",
       "    </tr>\n",
       "  </tbody>\n",
       "</table>\n",
       "</div>"
      ],
      "text/plain": [
       "         رقم الموظف الجنس الجنسية  العمر             المؤهل المنطقة الإدارية\n",
       "297148  موظف 297149  رجال   سعودي     40  دبلوم بعد الجامعة     منطقة الرياض\n",
       "407696  موظف 407697  رجال   سعودي     40        البكالوريوس     منطقة الرياض\n",
       "55926    موظف 55927  رجال   سعودي     39   الكفاءة المتوسطة     منطقة الرياض\n",
       "272231  موظف 272232  نساء   سعودي     37        البكالوريوس     منطقة الرياض\n",
       "209219  موظف 209220  رجال   سعودي     33        البكالوريوس     منطقة الرياض\n",
       "172038  موظف 172039  نساء   سعودي     30        البكالوريوس     منطقة الرياض\n",
       "352570  موظف 352571  رجال   سعودي     43  دبلوم بعد الجامعة     منطقة الرياض\n",
       "319168  موظف 319169  رجال   سعودي     49        البكالوريوس     منطقة الرياض\n",
       "16075    موظف 16076  رجال   سعودي     36        البكالوريوس     منطقة الرياض\n",
       "255523  موظف 255524  نساء   سعودي     46        البكالوريوس     منطقة الرياض"
      ]
     },
     "execution_count": 34,
     "metadata": {},
     "output_type": "execute_result"
    }
   ],
   "source": [
    "data.sample(10)"
   ]
  },
  {
   "cell_type": "code",
   "execution_count": 35,
   "id": "3e8ce261",
   "metadata": {},
   "outputs": [
    {
     "name": "stdout",
     "output_type": "stream",
     "text": [
      "<class 'pandas.core.frame.DataFrame'>\n",
      "RangeIndex: 463313 entries, 0 to 463312\n",
      "Data columns (total 6 columns):\n",
      " #   Column            Non-Null Count   Dtype \n",
      "---  ------            --------------   ----- \n",
      " 0   رقم الموظف        463313 non-null  object\n",
      " 1   الجنس             463313 non-null  object\n",
      " 2   الجنسية           463313 non-null  object\n",
      " 3   العمر             463313 non-null  int64 \n",
      " 4   المؤهل            463313 non-null  object\n",
      " 5   المنطقة الإدارية  463313 non-null  object\n",
      "dtypes: int64(1), object(5)\n",
      "memory usage: 21.2+ MB\n"
     ]
    }
   ],
   "source": [
    "data.info()"
   ]
  },
  {
   "cell_type": "code",
   "execution_count": 42,
   "id": "9e024fd6",
   "metadata": {},
   "outputs": [
    {
     "data": {
      "text/plain": [
       "سعودي       453999\n",
       "مصر           2681\n",
       "السودان       1791\n",
       "الهند         1647\n",
       "الفلبين        875\n",
       "             ...  \n",
       "تشاد             1\n",
       "سنغافوره         1\n",
       "ايرلندا          1\n",
       "كينيا            1\n",
       "بلجيكا           1\n",
       "Name: الجنسية, Length: 62, dtype: int64"
      ]
     },
     "execution_count": 42,
     "metadata": {},
     "output_type": "execute_result"
    }
   ],
   "source": [
    "data['الجنسية'].value_counts()"
   ]
  },
  {
   "cell_type": "code",
   "execution_count": 39,
   "id": "cda18f3c",
   "metadata": {},
   "outputs": [
    {
     "data": {
      "text/plain": [
       "البكالوريوس                                252603\n",
       "ثانوية                                      48741\n",
       "دبلوم بعد الثانوية                          47246\n",
       "الماجستير                                   30250\n",
       "دبلوم بعد الجامعة                           16074\n",
       "دبلوم بعد المتوسطة                          13349\n",
       "الكفاءة المتوسطة                            12870\n",
       "دكتوراه                                     12381\n",
       "ابتدائية                                    11418\n",
       "يقرأ و يكتب                                  7017\n",
       "دبلوم ثلاث سنوات بعد الكفاءه المتوسطه        4522\n",
       "دبلوم سنتين وسته اشهر بعد الثانويه           1690\n",
       "امي                                          1512\n",
       "دبلوم سنتين بعد الثانويه                     1154\n",
       "دبلوم سنه بعد الابتدائيه                      554\n",
       "دبلوم سنه بعد الجامعيه                        503\n",
       "دبلوم ثلاث سنوات بعد الثانويه                 340\n",
       "دبلوم سنه بعد الثانويه                        264\n",
       "لم يحدد                                       210\n",
       "دبلوم سنتين بعد الجامعه                       192\n",
       "دبلوم بعد الماجستير                           103\n",
       "الزماله                                       101\n",
       "دبلوم سنه وسته اشهر بعد الثانويه               67\n",
       "دبلوم سنتان بعد الكفاءه المتوسطه               42\n",
       "دبلوم سنه وسته اشهر بعد الجامعيه               26\n",
       "دبلوم سنه بعد الكفاءه المتوسطه                 19\n",
       "دبلوم سنتين بعد الابتدائيه                     17\n",
       "دبلوم ثلاث سنوات وسته اشهر بعد الثانويه        15\n",
       "دبلوم سنتان ونصف بعد الكفاءه المتوسطه          11\n",
       "دبلوم سنتين وسته اشهر بعد الجامعيه              9\n",
       "دبلوم سنه وسته اشهر بعد الابتدائيه              9\n",
       "دبلوم ثلاث سنوات بعد الجامعه                    2\n",
       "دبلوم سنه ونصف بعد الكفاءه المتوسطه             2\n",
       "Name: المؤهل, dtype: int64"
      ]
     },
     "execution_count": 39,
     "metadata": {},
     "output_type": "execute_result"
    }
   ],
   "source": [
    "data['المؤهل'].value_counts()"
   ]
  },
  {
   "cell_type": "code",
   "execution_count": 45,
   "id": "3e416327",
   "metadata": {},
   "outputs": [],
   "source": [
    "data = pd.read_csv('data/over-the-counter-drug-products.csv')"
   ]
  },
  {
   "cell_type": "code",
   "execution_count": 49,
   "id": "4a2d76f1",
   "metadata": {},
   "outputs": [
    {
     "data": {
      "text/html": [
       "<div>\n",
       "<style scoped>\n",
       "    .dataframe tbody tr th:only-of-type {\n",
       "        vertical-align: middle;\n",
       "    }\n",
       "\n",
       "    .dataframe tbody tr th {\n",
       "        vertical-align: top;\n",
       "    }\n",
       "\n",
       "    .dataframe thead th {\n",
       "        text-align: right;\n",
       "    }\n",
       "</style>\n",
       "<table border=\"1\" class=\"dataframe\">\n",
       "  <thead>\n",
       "    <tr style=\"text-align: right;\">\n",
       "      <th></th>\n",
       "      <th>RegisterYear</th>\n",
       "      <th>TradeName</th>\n",
       "      <th>ScientificName</th>\n",
       "      <th>ShelfLife</th>\n",
       "      <th>DrugType</th>\n",
       "      <th>PackageType</th>\n",
       "      <th>AdministrationRoute</th>\n",
       "      <th>DoesageForm</th>\n",
       "      <th>StorageConditions</th>\n",
       "      <th>LegalStatus</th>\n",
       "      <th>DomainEN</th>\n",
       "      <th>CompanyName</th>\n",
       "    </tr>\n",
       "  </thead>\n",
       "  <tbody>\n",
       "    <tr>\n",
       "      <th>882</th>\n",
       "      <td>2018</td>\n",
       "      <td>LAXILOSE SYRUP</td>\n",
       "      <td>LACTULOSE CONCENTRATE</td>\n",
       "      <td>24</td>\n",
       "      <td>Generic</td>\n",
       "      <td>Bottle</td>\n",
       "      <td>Oral</td>\n",
       "      <td>syrup</td>\n",
       "      <td>store below 30°c</td>\n",
       "      <td>OTC</td>\n",
       "      <td>Human</td>\n",
       "      <td>SAUDI PHARMACEUTICAL INDUSTRIES</td>\n",
       "    </tr>\n",
       "    <tr>\n",
       "      <th>1116</th>\n",
       "      <td>2020</td>\n",
       "      <td>NICOTINELL TTS-30</td>\n",
       "      <td>NICOTINE</td>\n",
       "      <td>36</td>\n",
       "      <td>NCE</td>\n",
       "      <td>Box</td>\n",
       "      <td>Topical</td>\n",
       "      <td>PATCH</td>\n",
       "      <td>store below 25°c</td>\n",
       "      <td>OTC</td>\n",
       "      <td>Human</td>\n",
       "      <td>GSK CONSUMER HEALTHCARE SCHWEIZ AG</td>\n",
       "    </tr>\n",
       "    <tr>\n",
       "      <th>487</th>\n",
       "      <td>2003</td>\n",
       "      <td>IBUPHIL 5% GEL</td>\n",
       "      <td>IBUPROFEN</td>\n",
       "      <td>36</td>\n",
       "      <td>Generic</td>\n",
       "      <td>Tube</td>\n",
       "      <td>Topical</td>\n",
       "      <td>gel</td>\n",
       "      <td>store below 25°c</td>\n",
       "      <td>OTC</td>\n",
       "      <td>Human</td>\n",
       "      <td>PHILADELPHIA PHARMACEUTICAL</td>\n",
       "    </tr>\n",
       "    <tr>\n",
       "      <th>783</th>\n",
       "      <td>1987</td>\n",
       "      <td>GLUCOFER 300MG TAB</td>\n",
       "      <td>FERROUS GLUCONATE</td>\n",
       "      <td>60</td>\n",
       "      <td>Generic</td>\n",
       "      <td>Blister</td>\n",
       "      <td>Oral</td>\n",
       "      <td>Tablet</td>\n",
       "      <td>store below 25°c</td>\n",
       "      <td>OTC</td>\n",
       "      <td>Human</td>\n",
       "      <td>Hikma Pharmaceuticals PLC</td>\n",
       "    </tr>\n",
       "    <tr>\n",
       "      <th>357</th>\n",
       "      <td>2006</td>\n",
       "      <td>PMOL 500MG CAPLET</td>\n",
       "      <td>PARACETAMOL</td>\n",
       "      <td>36</td>\n",
       "      <td>Generic</td>\n",
       "      <td>Blister</td>\n",
       "      <td>Oral</td>\n",
       "      <td>Tablet</td>\n",
       "      <td>store below 25°c</td>\n",
       "      <td>OTC</td>\n",
       "      <td>Human</td>\n",
       "      <td>OMAN PHARMACEUTICAL PRODUCTS</td>\n",
       "    </tr>\n",
       "    <tr>\n",
       "      <th>750</th>\n",
       "      <td>2010</td>\n",
       "      <td>VITACID CALCIUM 1000</td>\n",
       "      <td>CALCIUM CARBONATE, ASCORBIC ACID (VITAMIN C)</td>\n",
       "      <td>36</td>\n",
       "      <td>Generic</td>\n",
       "      <td>Tube</td>\n",
       "      <td>Oral</td>\n",
       "      <td>effervescent tablet</td>\n",
       "      <td>store below 25°c</td>\n",
       "      <td>OTC</td>\n",
       "      <td>Human</td>\n",
       "      <td>CHEMICAL INDUSTRIES DEVELOPMENT (CID)</td>\n",
       "    </tr>\n",
       "    <tr>\n",
       "      <th>601</th>\n",
       "      <td>2018</td>\n",
       "      <td>OLFEN PATCHES</td>\n",
       "      <td>DICLOFENAC SODIUM</td>\n",
       "      <td>24</td>\n",
       "      <td>Generic</td>\n",
       "      <td>Patch</td>\n",
       "      <td>Transdermal</td>\n",
       "      <td>PATCH</td>\n",
       "      <td>store below 30°c</td>\n",
       "      <td>OTC</td>\n",
       "      <td>Human</td>\n",
       "      <td>ACINO PHARMA AG</td>\n",
       "    </tr>\n",
       "    <tr>\n",
       "      <th>1052</th>\n",
       "      <td>2017</td>\n",
       "      <td>LEVOZAL 0.5 mg/ml Sy</td>\n",
       "      <td>LEVOCETIRIZINE DIHYDROCHLORIDE</td>\n",
       "      <td>24</td>\n",
       "      <td>Generic</td>\n",
       "      <td>Bottle</td>\n",
       "      <td>Oral</td>\n",
       "      <td>syrup</td>\n",
       "      <td>store below 30°c</td>\n",
       "      <td>OTC</td>\n",
       "      <td>Human</td>\n",
       "      <td>JAMJOOM PHARMACEUTICALS COMPANY</td>\n",
       "    </tr>\n",
       "    <tr>\n",
       "      <th>688</th>\n",
       "      <td>2002</td>\n",
       "      <td>OTRINOL 120MG CAP</td>\n",
       "      <td>PSEUDOEPHEDRINE</td>\n",
       "      <td>24</td>\n",
       "      <td>NCE</td>\n",
       "      <td>Blister</td>\n",
       "      <td>Oral</td>\n",
       "      <td>Capsule*</td>\n",
       "      <td>store below 25°c</td>\n",
       "      <td>OTC</td>\n",
       "      <td>Human</td>\n",
       "      <td>NOVARTIS</td>\n",
       "    </tr>\n",
       "    <tr>\n",
       "      <th>226</th>\n",
       "      <td>2008</td>\n",
       "      <td>ACICAL PLUS CHEWABLE</td>\n",
       "      <td>DIHYDROXY ALUMINUM SOD. CARBONATE, SIMETHICONE</td>\n",
       "      <td>24</td>\n",
       "      <td>NCE</td>\n",
       "      <td>Blister</td>\n",
       "      <td>Oral</td>\n",
       "      <td>TABLET, CHEWABLE</td>\n",
       "      <td>store below 25°c</td>\n",
       "      <td>OTC</td>\n",
       "      <td>Human</td>\n",
       "      <td>BATTERJEE PHARMACETICAL FACTORY</td>\n",
       "    </tr>\n",
       "  </tbody>\n",
       "</table>\n",
       "</div>"
      ],
      "text/plain": [
       "      RegisterYear             TradeName  \\\n",
       "882           2018        LAXILOSE SYRUP   \n",
       "1116          2020     NICOTINELL TTS-30   \n",
       "487           2003        IBUPHIL 5% GEL   \n",
       "783           1987    GLUCOFER 300MG TAB   \n",
       "357           2006     PMOL 500MG CAPLET   \n",
       "750           2010  VITACID CALCIUM 1000   \n",
       "601           2018         OLFEN PATCHES   \n",
       "1052          2017  LEVOZAL 0.5 mg/ml Sy   \n",
       "688           2002     OTRINOL 120MG CAP   \n",
       "226           2008  ACICAL PLUS CHEWABLE   \n",
       "\n",
       "                                      ScientificName  ShelfLife DrugType  \\\n",
       "882                            LACTULOSE CONCENTRATE         24  Generic   \n",
       "1116                                        NICOTINE         36      NCE   \n",
       "487                                        IBUPROFEN         36  Generic   \n",
       "783                                FERROUS GLUCONATE         60  Generic   \n",
       "357                                      PARACETAMOL         36  Generic   \n",
       "750     CALCIUM CARBONATE, ASCORBIC ACID (VITAMIN C)         36  Generic   \n",
       "601                                DICLOFENAC SODIUM         24  Generic   \n",
       "1052                  LEVOCETIRIZINE DIHYDROCHLORIDE         24  Generic   \n",
       "688                                  PSEUDOEPHEDRINE         24      NCE   \n",
       "226   DIHYDROXY ALUMINUM SOD. CARBONATE, SIMETHICONE         24      NCE   \n",
       "\n",
       "     PackageType AdministrationRoute          DoesageForm StorageConditions  \\\n",
       "882       Bottle                Oral                syrup  store below 30°c   \n",
       "1116         Box             Topical                PATCH  store below 25°c   \n",
       "487         Tube             Topical                  gel  store below 25°c   \n",
       "783      Blister                Oral               Tablet  store below 25°c   \n",
       "357      Blister                Oral               Tablet  store below 25°c   \n",
       "750         Tube                Oral  effervescent tablet  store below 25°c   \n",
       "601        Patch         Transdermal                PATCH  store below 30°c   \n",
       "1052      Bottle                Oral                syrup  store below 30°c   \n",
       "688      Blister                Oral             Capsule*  store below 25°c   \n",
       "226      Blister                Oral     TABLET, CHEWABLE  store below 25°c   \n",
       "\n",
       "     LegalStatus DomainEN                            CompanyName  \n",
       "882          OTC    Human        SAUDI PHARMACEUTICAL INDUSTRIES  \n",
       "1116         OTC    Human     GSK CONSUMER HEALTHCARE SCHWEIZ AG  \n",
       "487          OTC    Human            PHILADELPHIA PHARMACEUTICAL  \n",
       "783          OTC    Human              Hikma Pharmaceuticals PLC  \n",
       "357          OTC    Human           OMAN PHARMACEUTICAL PRODUCTS  \n",
       "750          OTC    Human  CHEMICAL INDUSTRIES DEVELOPMENT (CID)  \n",
       "601          OTC    Human                        ACINO PHARMA AG  \n",
       "1052         OTC    Human        JAMJOOM PHARMACEUTICALS COMPANY  \n",
       "688          OTC    Human                               NOVARTIS  \n",
       "226          OTC    Human        BATTERJEE PHARMACETICAL FACTORY  "
      ]
     },
     "execution_count": 49,
     "metadata": {},
     "output_type": "execute_result"
    }
   ],
   "source": [
    "data.sample(10)"
   ]
  },
  {
   "cell_type": "code",
   "execution_count": 48,
   "id": "38402f30",
   "metadata": {},
   "outputs": [
    {
     "data": {
      "text/plain": [
       "RegisterYear           0\n",
       "TradeName              0\n",
       "ScientificName         0\n",
       "ShelfLife              0\n",
       "DrugType               0\n",
       "PackageType            0\n",
       "AdministrationRoute    0\n",
       "DoesageForm            0\n",
       "StorageConditions      3\n",
       "LegalStatus            0\n",
       "DomainEN               0\n",
       "CompanyName            0\n",
       "dtype: int64"
      ]
     },
     "execution_count": 48,
     "metadata": {},
     "output_type": "execute_result"
    }
   ],
   "source": [
    "data.isnull().sum()"
   ]
  },
  {
   "cell_type": "code",
   "execution_count": 156,
   "id": "28f433da",
   "metadata": {},
   "outputs": [],
   "source": [
    "data = pd.read_excel('data/realestate-for-distiricts-on-2018-2019-2020-2021.xlsx')"
   ]
  },
  {
   "cell_type": "code",
   "execution_count": 157,
   "id": "97db4f1d",
   "metadata": {},
   "outputs": [
    {
     "name": "stdout",
     "output_type": "stream",
     "text": [
      "<class 'pandas.core.frame.DataFrame'>\n",
      "RangeIndex: 2224 entries, 0 to 2223\n",
      "Data columns (total 13 columns):\n",
      " #   Column       Non-Null Count  Dtype \n",
      "---  ------       --------------  ----- \n",
      " 0   Unnamed: 0   2220 non-null   object\n",
      " 1   Unnamed: 1   1874 non-null   object\n",
      " 2   Unnamed: 2   1871 non-null   object\n",
      " 3   Unnamed: 3   1871 non-null   object\n",
      " 4   Unnamed: 4   1934 non-null   object\n",
      " 5   Unnamed: 5   1933 non-null   object\n",
      " 6   Unnamed: 6   1933 non-null   object\n",
      " 7   Unnamed: 7   1869 non-null   object\n",
      " 8   Unnamed: 8   1868 non-null   object\n",
      " 9   Unnamed: 9   1868 non-null   object\n",
      " 10  Unnamed: 10  785 non-null    object\n",
      " 11  Unnamed: 11  784 non-null    object\n",
      " 12  Unnamed: 12  784 non-null    object\n",
      "dtypes: object(13)\n",
      "memory usage: 226.0+ KB\n"
     ]
    }
   ],
   "source": [
    "data.info()"
   ]
  },
  {
   "cell_type": "code",
   "execution_count": 158,
   "id": "e2ad78bb",
   "metadata": {},
   "outputs": [
    {
     "data": {
      "text/plain": [
       "Unnamed: 0        4\n",
       "Unnamed: 1      350\n",
       "Unnamed: 2      353\n",
       "Unnamed: 3      353\n",
       "Unnamed: 4      290\n",
       "Unnamed: 5      291\n",
       "Unnamed: 6      291\n",
       "Unnamed: 7      355\n",
       "Unnamed: 8      356\n",
       "Unnamed: 9      356\n",
       "Unnamed: 10    1439\n",
       "Unnamed: 11    1440\n",
       "Unnamed: 12    1440\n",
       "dtype: int64"
      ]
     },
     "execution_count": 158,
     "metadata": {},
     "output_type": "execute_result"
    }
   ],
   "source": [
    "data.isnull().sum()"
   ]
  },
  {
   "cell_type": "code",
   "execution_count": 160,
   "id": "5448c07c",
   "metadata": {},
   "outputs": [
    {
     "data": {
      "text/html": [
       "<div>\n",
       "<style scoped>\n",
       "    .dataframe tbody tr th:only-of-type {\n",
       "        vertical-align: middle;\n",
       "    }\n",
       "\n",
       "    .dataframe tbody tr th {\n",
       "        vertical-align: top;\n",
       "    }\n",
       "\n",
       "    .dataframe thead th {\n",
       "        text-align: right;\n",
       "    }\n",
       "</style>\n",
       "<table border=\"1\" class=\"dataframe\">\n",
       "  <thead>\n",
       "    <tr style=\"text-align: right;\">\n",
       "      <th></th>\n",
       "      <th>Unnamed: 0</th>\n",
       "      <th>Unnamed: 1</th>\n",
       "      <th>Unnamed: 2</th>\n",
       "      <th>Unnamed: 3</th>\n",
       "      <th>Unnamed: 4</th>\n",
       "      <th>Unnamed: 5</th>\n",
       "      <th>Unnamed: 6</th>\n",
       "      <th>Unnamed: 7</th>\n",
       "      <th>Unnamed: 8</th>\n",
       "      <th>Unnamed: 9</th>\n",
       "      <th>Unnamed: 10</th>\n",
       "      <th>Unnamed: 11</th>\n",
       "      <th>Unnamed: 12</th>\n",
       "    </tr>\n",
       "  </thead>\n",
       "  <tbody>\n",
       "    <tr>\n",
       "      <th>44</th>\n",
       "      <td>فبراير</td>\n",
       "      <td>450000</td>\n",
       "      <td>183.12</td>\n",
       "      <td>1</td>\n",
       "      <td>1800000</td>\n",
       "      <td>416</td>\n",
       "      <td>1</td>\n",
       "      <td>NaN</td>\n",
       "      <td>NaN</td>\n",
       "      <td>NaN</td>\n",
       "      <td>NaN</td>\n",
       "      <td>NaN</td>\n",
       "      <td>NaN</td>\n",
       "    </tr>\n",
       "    <tr>\n",
       "      <th>128</th>\n",
       "      <td>مارس</td>\n",
       "      <td>16521125</td>\n",
       "      <td>14822.13</td>\n",
       "      <td>24</td>\n",
       "      <td>19292619</td>\n",
       "      <td>15754.141</td>\n",
       "      <td>30</td>\n",
       "      <td>15349937</td>\n",
       "      <td>11683.65</td>\n",
       "      <td>20</td>\n",
       "      <td>37665390</td>\n",
       "      <td>23999.88</td>\n",
       "      <td>36</td>\n",
       "    </tr>\n",
       "    <tr>\n",
       "      <th>624</th>\n",
       "      <td>يوليو</td>\n",
       "      <td>21381446</td>\n",
       "      <td>7842.94</td>\n",
       "      <td>12</td>\n",
       "      <td>12882325</td>\n",
       "      <td>3656.28</td>\n",
       "      <td>8</td>\n",
       "      <td>50640726</td>\n",
       "      <td>9924.2549</td>\n",
       "      <td>14</td>\n",
       "      <td>NaN</td>\n",
       "      <td>NaN</td>\n",
       "      <td>NaN</td>\n",
       "    </tr>\n",
       "    <tr>\n",
       "      <th>1468</th>\n",
       "      <td>مايو</td>\n",
       "      <td>94377773</td>\n",
       "      <td>36150.82</td>\n",
       "      <td>89</td>\n",
       "      <td>104641889</td>\n",
       "      <td>65187.83</td>\n",
       "      <td>57</td>\n",
       "      <td>42562183</td>\n",
       "      <td>15342.46</td>\n",
       "      <td>29</td>\n",
       "      <td>NaN</td>\n",
       "      <td>NaN</td>\n",
       "      <td>NaN</td>\n",
       "    </tr>\n",
       "    <tr>\n",
       "      <th>797</th>\n",
       "      <td>اوغسطس</td>\n",
       "      <td>NaN</td>\n",
       "      <td>NaN</td>\n",
       "      <td>NaN</td>\n",
       "      <td>NaN</td>\n",
       "      <td>NaN</td>\n",
       "      <td>NaN</td>\n",
       "      <td>600000</td>\n",
       "      <td>470</td>\n",
       "      <td>1</td>\n",
       "      <td>NaN</td>\n",
       "      <td>NaN</td>\n",
       "      <td>NaN</td>\n",
       "    </tr>\n",
       "    <tr>\n",
       "      <th>1356</th>\n",
       "      <td>يوليو</td>\n",
       "      <td>NaN</td>\n",
       "      <td>NaN</td>\n",
       "      <td>NaN</td>\n",
       "      <td>144012500</td>\n",
       "      <td>30265</td>\n",
       "      <td>2</td>\n",
       "      <td>3924375</td>\n",
       "      <td>1195.9</td>\n",
       "      <td>3</td>\n",
       "      <td>NaN</td>\n",
       "      <td>NaN</td>\n",
       "      <td>NaN</td>\n",
       "    </tr>\n",
       "    <tr>\n",
       "      <th>384</th>\n",
       "      <td>يوليو</td>\n",
       "      <td>4945000</td>\n",
       "      <td>2500</td>\n",
       "      <td>2</td>\n",
       "      <td>47215000</td>\n",
       "      <td>9600</td>\n",
       "      <td>5</td>\n",
       "      <td>10144000</td>\n",
       "      <td>2007.84</td>\n",
       "      <td>16</td>\n",
       "      <td>NaN</td>\n",
       "      <td>NaN</td>\n",
       "      <td>NaN</td>\n",
       "    </tr>\n",
       "    <tr>\n",
       "      <th>1001</th>\n",
       "      <td>يناير</td>\n",
       "      <td>39366358</td>\n",
       "      <td>8085.12</td>\n",
       "      <td>12</td>\n",
       "      <td>18347337</td>\n",
       "      <td>5510</td>\n",
       "      <td>10</td>\n",
       "      <td>10023685</td>\n",
       "      <td>2700.24</td>\n",
       "      <td>8</td>\n",
       "      <td>20972000</td>\n",
       "      <td>5434</td>\n",
       "      <td>5</td>\n",
       "    </tr>\n",
       "    <tr>\n",
       "      <th>1961</th>\n",
       "      <td>مايو</td>\n",
       "      <td>17734817</td>\n",
       "      <td>218779.46</td>\n",
       "      <td>221</td>\n",
       "      <td>29082401</td>\n",
       "      <td>317435.55</td>\n",
       "      <td>295</td>\n",
       "      <td>5793500</td>\n",
       "      <td>65021.62</td>\n",
       "      <td>62</td>\n",
       "      <td>NaN</td>\n",
       "      <td>NaN</td>\n",
       "      <td>NaN</td>\n",
       "    </tr>\n",
       "    <tr>\n",
       "      <th>1579</th>\n",
       "      <td>اوغسطس</td>\n",
       "      <td>7928797</td>\n",
       "      <td>9690</td>\n",
       "      <td>19</td>\n",
       "      <td>25216746</td>\n",
       "      <td>20105.88</td>\n",
       "      <td>35</td>\n",
       "      <td>22685852</td>\n",
       "      <td>28963.83</td>\n",
       "      <td>34</td>\n",
       "      <td>NaN</td>\n",
       "      <td>NaN</td>\n",
       "      <td>NaN</td>\n",
       "    </tr>\n",
       "  </tbody>\n",
       "</table>\n",
       "</div>"
      ],
      "text/plain": [
       "     Unnamed: 0 Unnamed: 1 Unnamed: 2 Unnamed: 3 Unnamed: 4 Unnamed: 5  \\\n",
       "44       فبراير     450000     183.12          1    1800000        416   \n",
       "128        مارس   16521125   14822.13         24   19292619  15754.141   \n",
       "624       يوليو   21381446    7842.94         12   12882325    3656.28   \n",
       "1468       مايو   94377773   36150.82         89  104641889   65187.83   \n",
       "797      اوغسطس        NaN        NaN        NaN        NaN        NaN   \n",
       "1356      يوليو        NaN        NaN        NaN  144012500      30265   \n",
       "384       يوليو    4945000       2500          2   47215000       9600   \n",
       "1001      يناير   39366358    8085.12         12   18347337       5510   \n",
       "1961       مايو   17734817  218779.46        221   29082401  317435.55   \n",
       "1579     اوغسطس    7928797       9690         19   25216746   20105.88   \n",
       "\n",
       "     Unnamed: 6 Unnamed: 7 Unnamed: 8 Unnamed: 9 Unnamed: 10 Unnamed: 11  \\\n",
       "44            1        NaN        NaN        NaN         NaN         NaN   \n",
       "128          30   15349937   11683.65         20    37665390    23999.88   \n",
       "624           8   50640726  9924.2549         14         NaN         NaN   \n",
       "1468         57   42562183   15342.46         29         NaN         NaN   \n",
       "797         NaN     600000        470          1         NaN         NaN   \n",
       "1356          2    3924375     1195.9          3         NaN         NaN   \n",
       "384           5   10144000    2007.84         16         NaN         NaN   \n",
       "1001         10   10023685    2700.24          8    20972000        5434   \n",
       "1961        295    5793500   65021.62         62         NaN         NaN   \n",
       "1579         35   22685852   28963.83         34         NaN         NaN   \n",
       "\n",
       "     Unnamed: 12  \n",
       "44           NaN  \n",
       "128           36  \n",
       "624          NaN  \n",
       "1468         NaN  \n",
       "797          NaN  \n",
       "1356         NaN  \n",
       "384          NaN  \n",
       "1001           5  \n",
       "1961         NaN  \n",
       "1579         NaN  "
      ]
     },
     "execution_count": 160,
     "metadata": {},
     "output_type": "execute_result"
    }
   ],
   "source": [
    "data.sample(10)"
   ]
  },
  {
   "cell_type": "code",
   "execution_count": 452,
   "id": "7d325613",
   "metadata": {},
   "outputs": [],
   "source": [
    "data = pd.read_csv('data/students-with-disabilities-in-public-schools1442-ah.csv')"
   ]
  },
  {
   "cell_type": "code",
   "execution_count": 453,
   "id": "c87e7090",
   "metadata": {},
   "outputs": [
    {
     "name": "stdout",
     "output_type": "stream",
     "text": [
      "<class 'pandas.core.frame.DataFrame'>\n",
      "RangeIndex: 1474 entries, 0 to 1473\n",
      "Data columns (total 7 columns):\n",
      " #   Column                              Non-Null Count  Dtype \n",
      "---  ------                              --------------  ----- \n",
      " 0   المنطقة الإدارية                    1474 non-null   object\n",
      " 1   إدارة التعليم                       1474 non-null   object\n",
      " 2   المكتب                              1474 non-null   object\n",
      " 3   السلطة                              1474 non-null   object\n",
      " 4   المرحلة                             1474 non-null   object\n",
      " 5   جنس الطالب                          1474 non-null   object\n",
      " 6   عدد الطلبة ذوي الإعاقة للعام 1442ه  1474 non-null   int64 \n",
      "dtypes: int64(1), object(6)\n",
      "memory usage: 80.7+ KB\n"
     ]
    }
   ],
   "source": [
    "data.info()"
   ]
  },
  {
   "cell_type": "code",
   "execution_count": 454,
   "id": "6ad97a81",
   "metadata": {},
   "outputs": [
    {
     "data": {
      "text/html": [
       "<div>\n",
       "<style scoped>\n",
       "    .dataframe tbody tr th:only-of-type {\n",
       "        vertical-align: middle;\n",
       "    }\n",
       "\n",
       "    .dataframe tbody tr th {\n",
       "        vertical-align: top;\n",
       "    }\n",
       "\n",
       "    .dataframe thead th {\n",
       "        text-align: right;\n",
       "    }\n",
       "</style>\n",
       "<table border=\"1\" class=\"dataframe\">\n",
       "  <thead>\n",
       "    <tr style=\"text-align: right;\">\n",
       "      <th></th>\n",
       "      <th>المنطقة الإدارية</th>\n",
       "      <th>إدارة التعليم</th>\n",
       "      <th>المكتب</th>\n",
       "      <th>السلطة</th>\n",
       "      <th>المرحلة</th>\n",
       "      <th>جنس الطالب</th>\n",
       "      <th>عدد الطلبة ذوي الإعاقة للعام 1442ه</th>\n",
       "    </tr>\n",
       "  </thead>\n",
       "  <tbody>\n",
       "    <tr>\n",
       "      <th>987</th>\n",
       "      <td>عسير</td>\n",
       "      <td>إدارة التعليم بمحافظة النماص</td>\n",
       "      <td>مكتب التعليم بتنومة</td>\n",
       "      <td>حكومي</td>\n",
       "      <td>المرحلة الإبتدائية</td>\n",
       "      <td>بنين</td>\n",
       "      <td>24</td>\n",
       "    </tr>\n",
       "    <tr>\n",
       "      <th>10</th>\n",
       "      <td>الباحة</td>\n",
       "      <td>إدارة التعليم بمحافظة المخواة</td>\n",
       "      <td>مكتب التعليم بغامد الزناد</td>\n",
       "      <td>حكومي</td>\n",
       "      <td>المرحلة المتوسطة</td>\n",
       "      <td>بنين</td>\n",
       "      <td>10</td>\n",
       "    </tr>\n",
       "    <tr>\n",
       "      <th>1222</th>\n",
       "      <td>مكة المكرمة</td>\n",
       "      <td>الإدارة العامة للتعليم بمحافظة الطائف</td>\n",
       "      <td>مكتب  التعليم بمحافظة الخرمه</td>\n",
       "      <td>حكومي</td>\n",
       "      <td>المرحلة المتوسطة</td>\n",
       "      <td>بنات</td>\n",
       "      <td>14</td>\n",
       "    </tr>\n",
       "    <tr>\n",
       "      <th>369</th>\n",
       "      <td>الرياض</td>\n",
       "      <td>الإدارة العامة للتعليم بمنطقة الرياض</td>\n",
       "      <td>مكتب التعليم بالعزيزية</td>\n",
       "      <td>أهلي</td>\n",
       "      <td>المرحلة الثانوية</td>\n",
       "      <td>بنين</td>\n",
       "      <td>11</td>\n",
       "    </tr>\n",
       "    <tr>\n",
       "      <th>22</th>\n",
       "      <td>الباحة</td>\n",
       "      <td>الإدارة العامة للتعليم بمنطقة الباحة</td>\n",
       "      <td>مكتب االتعليم ببلجرشي</td>\n",
       "      <td>حكومي</td>\n",
       "      <td>المرحلة الثانوية</td>\n",
       "      <td>بنين</td>\n",
       "      <td>12</td>\n",
       "    </tr>\n",
       "    <tr>\n",
       "      <th>653</th>\n",
       "      <td>القصيم</td>\n",
       "      <td>الإدارة العامة للتعليم بمنطقة القصيم</td>\n",
       "      <td>مكتب التعليم شمال بريدة</td>\n",
       "      <td>حكومي</td>\n",
       "      <td>المرحلة الإبتدائية</td>\n",
       "      <td>بنين</td>\n",
       "      <td>111</td>\n",
       "    </tr>\n",
       "    <tr>\n",
       "      <th>530</th>\n",
       "      <td>الشرقية</td>\n",
       "      <td>الإدارة العامة للتعليم بالمنطقة الشرقية</td>\n",
       "      <td>مكتب التعليم شرق الدمام</td>\n",
       "      <td>حكومي</td>\n",
       "      <td>المرحلة المتوسطة</td>\n",
       "      <td>بنات</td>\n",
       "      <td>144</td>\n",
       "    </tr>\n",
       "    <tr>\n",
       "      <th>466</th>\n",
       "      <td>الشرقية</td>\n",
       "      <td>الإدارة العامة للتعليم بالمنطقة الشرقية</td>\n",
       "      <td>مكتب التعليم بشرق الدمام</td>\n",
       "      <td>حكومي</td>\n",
       "      <td>المرحلة الثانوية</td>\n",
       "      <td>بنين</td>\n",
       "      <td>113</td>\n",
       "    </tr>\n",
       "    <tr>\n",
       "      <th>353</th>\n",
       "      <td>الرياض</td>\n",
       "      <td>الإدارة العامة للتعليم بمنطقة الرياض</td>\n",
       "      <td>مكتب التعليم بالسويدي</td>\n",
       "      <td>حكومي</td>\n",
       "      <td>المرحلة المتوسطة</td>\n",
       "      <td>بنين</td>\n",
       "      <td>265</td>\n",
       "    </tr>\n",
       "    <tr>\n",
       "      <th>1159</th>\n",
       "      <td>مكة المكرمة</td>\n",
       "      <td>إدارة التعليم بمحافظة القنفذة</td>\n",
       "      <td>مكتب التعليم -العرضية الجنوبية</td>\n",
       "      <td>حكومي</td>\n",
       "      <td>المرحلة الثانوية</td>\n",
       "      <td>بنين</td>\n",
       "      <td>10</td>\n",
       "    </tr>\n",
       "  </tbody>\n",
       "</table>\n",
       "</div>"
      ],
      "text/plain": [
       "     المنطقة الإدارية                            إدارة التعليم  \\\n",
       "987              عسير             إدارة التعليم بمحافظة النماص   \n",
       "10             الباحة            إدارة التعليم بمحافظة المخواة   \n",
       "1222      مكة المكرمة    الإدارة العامة للتعليم بمحافظة الطائف   \n",
       "369            الرياض     الإدارة العامة للتعليم بمنطقة الرياض   \n",
       "22             الباحة     الإدارة العامة للتعليم بمنطقة الباحة   \n",
       "653            القصيم     الإدارة العامة للتعليم بمنطقة القصيم   \n",
       "530           الشرقية  الإدارة العامة للتعليم بالمنطقة الشرقية   \n",
       "466           الشرقية  الإدارة العامة للتعليم بالمنطقة الشرقية   \n",
       "353            الرياض     الإدارة العامة للتعليم بمنطقة الرياض   \n",
       "1159      مكة المكرمة            إدارة التعليم بمحافظة القنفذة   \n",
       "\n",
       "                              المكتب السلطة             المرحلة جنس الطالب  \\\n",
       "987              مكتب التعليم بتنومة  حكومي  المرحلة الإبتدائية       بنين   \n",
       "10         مكتب التعليم بغامد الزناد  حكومي    المرحلة المتوسطة       بنين   \n",
       "1222    مكتب  التعليم بمحافظة الخرمه  حكومي    المرحلة المتوسطة       بنات   \n",
       "369           مكتب التعليم بالعزيزية   أهلي    المرحلة الثانوية       بنين   \n",
       "22             مكتب االتعليم ببلجرشي  حكومي    المرحلة الثانوية       بنين   \n",
       "653          مكتب التعليم شمال بريدة  حكومي  المرحلة الإبتدائية       بنين   \n",
       "530          مكتب التعليم شرق الدمام  حكومي    المرحلة المتوسطة       بنات   \n",
       "466         مكتب التعليم بشرق الدمام  حكومي    المرحلة الثانوية       بنين   \n",
       "353            مكتب التعليم بالسويدي  حكومي    المرحلة المتوسطة       بنين   \n",
       "1159  مكتب التعليم -العرضية الجنوبية  حكومي    المرحلة الثانوية       بنين   \n",
       "\n",
       "      عدد الطلبة ذوي الإعاقة للعام 1442ه  \n",
       "987                                   24  \n",
       "10                                    10  \n",
       "1222                                  14  \n",
       "369                                   11  \n",
       "22                                    12  \n",
       "653                                  111  \n",
       "530                                  144  \n",
       "466                                  113  \n",
       "353                                  265  \n",
       "1159                                  10  "
      ]
     },
     "execution_count": 454,
     "metadata": {},
     "output_type": "execute_result"
    }
   ],
   "source": [
    "data.sample(10)"
   ]
  },
  {
   "cell_type": "code",
   "execution_count": 455,
   "id": "6010c136",
   "metadata": {},
   "outputs": [
    {
     "data": {
      "text/plain": [
       "<AxesSubplot:ylabel='جنس الطالب'>"
      ]
     },
     "execution_count": 455,
     "metadata": {},
     "output_type": "execute_result"
    },
    {
     "data": {
      "image/png": "[encoded data removed]",
      "text/plain": [
       "<Figure size 432x288 with 1 Axes>"
      ]
     },
     "metadata": {},
     "output_type": "display_data"
    }
   ],
   "source": [
    "data['جنس الطالب'].value_counts().plot(kind='pie')"
   ]
  },
  {
   "cell_type": "code",
   "execution_count": 480,
   "id": "1956e10a",
   "metadata": {},
   "outputs": [
    {
     "data": {
      "text/plain": [
       "Index(['المنطقة الإدارية', 'إدارة التعليم', 'المكتب', 'السلطة', 'المرحلة',\n",
       "       'جنس الطالب', 'عدد الطلبة ذوي الإعاقة للعام 1442ه'],\n",
       "      dtype='object')"
      ]
     },
     "execution_count": 480,
     "metadata": {},
     "output_type": "execute_result"
    }
   ],
   "source": [
    "data.columns"
   ]
  },
  {
   "cell_type": "code",
   "execution_count": 495,
   "id": "35a2b6a2",
   "metadata": {},
   "outputs": [],
   "source": [
    "females = data[data['جنس الطالب'] == 'بنات']\n",
    "males = data[data['جنس الطالب'] == 'بنين']\n"
   ]
  },
  {
   "cell_type": "code",
   "execution_count": 502,
   "id": "d016f773",
   "metadata": {},
   "outputs": [],
   "source": [
    "females_count = females['عدد الطلبة ذوي الإعاقة للعام 1442ه'].sum()"
   ]
  },
  {
   "cell_type": "code",
   "execution_count": 503,
   "id": "baad882a",
   "metadata": {},
   "outputs": [],
   "source": [
    "males_count = males['عدد الطلبة ذوي الإعاقة للعام 1442ه'].sum()"
   ]
  },
  {
   "cell_type": "code",
   "execution_count": 507,
   "id": "bb27c583",
   "metadata": {},
   "outputs": [],
   "source": [
    "series = pd.Series([males_count,females_count], index=['boys','girls'])"
   ]
  },
  {
   "cell_type": "code",
   "execution_count": 510,
   "id": "c001d952",
   "metadata": {},
   "outputs": [
    {
     "data": {
      "text/plain": [
       "<AxesSubplot:>"
      ]
     },
     "execution_count": 510,
     "metadata": {},
     "output_type": "execute_result"
    },
    {
     "data": {
      "image/png": "[encoded data removed]",
      "text/plain": [
       "<Figure size 432x288 with 1 Axes>"
      ]
     },
     "metadata": {
      "needs_background": "light"
     },
     "output_type": "display_data"
    }
   ],
   "source": [
    "series.plot(kind='barh')"
   ]
  },
  {
   "cell_type": "code",
   "execution_count": 540,
   "id": "01dd7639",
   "metadata": {},
   "outputs": [
    {
     "data": {
      "text/plain": [
       "<AxesSubplot:xlabel='عدد الطلبة ذوي الإعاقة للعام 1442ه', ylabel='المنطقة الإدارية'>"
      ]
     },
     "execution_count": 540,
     "metadata": {},
     "output_type": "execute_result"
    },
    {
     "data": {
      "image/png": "[encoded data removed]",
      "text/plain": [
       "<Figure size 432x288 with 1 Axes>"
      ]
     },
     "metadata": {
      "needs_background": "light"
     },
     "output_type": "display_data"
    }
   ],
   "source": [
    "sns.boxenplot(data= data, x = 'عدد الطلبة ذوي الإعاقة للعام 1442ه', y='المنطقة الإدارية')"
   ]
  },
  {
   "cell_type": "code",
   "execution_count": 541,
   "id": "125f9cf1",
   "metadata": {},
   "outputs": [
    {
     "data": {
      "text/plain": [
       "<AxesSubplot:xlabel='عدد الطلبة ذوي الإعاقة للعام 1442ه', ylabel='جنس الطالب'>"
      ]
     },
     "execution_count": 541,
     "metadata": {},
     "output_type": "execute_result"
    },
    {
     "data": {
      "image/png": "[encoded data removed]",
      "text/plain": [
       "<Figure size 432x288 with 1 Axes>"
      ]
     },
     "metadata": {
      "needs_background": "light"
     },
     "output_type": "display_data"
    }
   ],
   "source": [
    "# data['عدد الطلبة ذوي الإعاقة للعام 1442ه'].value_counts().plot(kind= 'hist')\n",
    "sns.boxenplot(data= data, x = 'عدد الطلبة ذوي الإعاقة للعام 1442ه', y='جنس الطالب')"
   ]
  },
  {
   "cell_type": "code",
   "execution_count": 542,
   "id": "8f174120",
   "metadata": {},
   "outputs": [
    {
     "data": {
      "text/plain": [
       "<AxesSubplot:xlabel='السلطة', ylabel='عدد الطلبة ذوي الإعاقة للعام 1442ه'>"
      ]
     },
     "execution_count": 542,
     "metadata": {},
     "output_type": "execute_result"
    },
    {
     "data": {
      "image/png": "[encoded data removed]",
      "text/plain": [
       "<Figure size 432x288 with 1 Axes>"
      ]
     },
     "metadata": {
      "needs_background": "light"
     },
     "output_type": "display_data"
    }
   ],
   "source": [
    "sns.lineplot(data= data, y = 'عدد الطلبة ذوي الإعاقة للعام 1442ه', x='السلطة')"
   ]
  },
  {
   "cell_type": "code",
   "execution_count": 543,
   "id": "834bb3d0",
   "metadata": {},
   "outputs": [
    {
     "data": {
      "text/plain": [
       "<AxesSubplot:xlabel='عدد الطلبة ذوي الإعاقة للعام 1442ه', ylabel='المرحلة'>"
      ]
     },
     "execution_count": 543,
     "metadata": {},
     "output_type": "execute_result"
    },
    {
     "data": {
      "image/png": "[encoded data removed]",
      "text/plain": [
       "<Figure size 432x288 with 1 Axes>"
      ]
     },
     "metadata": {
      "needs_background": "light"
     },
     "output_type": "display_data"
    }
   ],
   "source": [
    "sns.barplot(data= data, x = 'عدد الطلبة ذوي الإعاقة للعام 1442ه', y='المرحلة')"
   ]
  },
  {
   "cell_type": "code",
   "execution_count": 544,
   "id": "8f33dc29",
   "metadata": {},
   "outputs": [
    {
     "data": {
      "text/plain": [
       "<AxesSubplot:xlabel='عدد الطلبة ذوي الإعاقة للعام 1442ه', ylabel='المنطقة الإدارية'>"
      ]
     },
     "execution_count": 544,
     "metadata": {},
     "output_type": "execute_result"
    },
    {
     "data": {
      "image/png": "[encoded data removed]",
      "text/plain": [
       "<Figure size 432x288 with 1 Axes>"
      ]
     },
     "metadata": {
      "needs_background": "light"
     },
     "output_type": "display_data"
    }
   ],
   "source": [
    "sns.barplot(data= data, x = 'عدد الطلبة ذوي الإعاقة للعام 1442ه', y='المنطقة الإدارية')"
   ]
  },
  {
   "cell_type": "code",
   "execution_count": null,
   "id": "906d07f9",
   "metadata": {},
   "outputs": [],
   "source": []
  },
  {
   "cell_type": "code",
   "execution_count": null,
   "id": "d3f72d0f",
   "metadata": {},
   "outputs": [],
   "source": []
  },
  {
   "cell_type": "code",
   "execution_count": null,
   "id": "9097ac7e",
   "metadata": {},
   "outputs": [],
   "source": []
  }
 ],
 "metadata": {
  "kernelspec": {
   "display_name": "Python 3 (ipykernel)",
   "language": "python",
   "name": "python3"
  },
  "language_info": {
   "codemirror_mode": {
    "name": "ipython",
    "version": 3
   },
   "file_extension": ".py",
   "mimetype": "text/x-python",
   "name": "python",
   "nbconvert_exporter": "python",
   "pygments_lexer": "ipython3",
   "version": "3.9.12"
  }
 },
 "nbformat": 4,
 "nbformat_minor": 5
}
